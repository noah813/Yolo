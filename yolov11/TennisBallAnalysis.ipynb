{
 "cells": [
  {
   "cell_type": "markdown",
   "metadata": {},
   "source": [
    "# Tennis Ball Analysis"
   ]
  },
  {
   "cell_type": "code",
   "execution_count": 85,
   "metadata": {},
   "outputs": [],
   "source": [
    "import os"
   ]
  },
  {
   "cell_type": "markdown",
   "metadata": {},
   "source": [
    "## Set arguments"
   ]
  },
  {
   "cell_type": "markdown",
   "metadata": {},
   "source": [
    "* modelPath: Path to the model file\n",
    "* VideoPath: Path to the input video file"
   ]
  },
  {
   "cell_type": "code",
   "execution_count": 86,
   "metadata": {},
   "outputs": [
    {
     "name": "stdout",
     "output_type": "stream",
     "text": [
      "env: modelPath=/Users/noah/Library/CloudStorage/OneDrive-國立高雄科技大學/github/tennis-ai/model/best.pt\n",
      "env: videoPath=/Users/noah/Library/CloudStorage/OneDrive-國立高雄科技大學/github/tennis-ai/tennis-games/Game1.mp4\n"
     ]
    }
   ],
   "source": [
    "%env modelPath=/Users/noah/Library/CloudStorage/OneDrive-國立高雄科技大學/github/tennis-ai/model/best.pt\n",
    "%env videoPath=/Users/noah/Library/CloudStorage/OneDrive-國立高雄科技大學/github/tennis-ai/tennis-games/Game1.mp4"
   ]
  },
  {
   "cell_type": "code",
   "execution_count": 87,
   "metadata": {},
   "outputs": [
    {
     "name": "stdout",
     "output_type": "stream",
     "text": [
      "Detecting tennis ball: 100%|███████████████| 709/709 [00:49<00:00, 14.22frame/s]\n"
     ]
    }
   ],
   "source": [
    "!python TennisBallAnalysis.py --modelPath=$modelPath --videoPath=$videoPath"
   ]
  },
  {
   "cell_type": "markdown",
   "metadata": {},
   "source": [
    "## Play output video"
   ]
  },
  {
   "cell_type": "code",
   "execution_count": 88,
   "metadata": {},
   "outputs": [
    {
     "data": {
      "text/plain": [
       "0"
      ]
     },
     "execution_count": 88,
     "metadata": {},
     "output_type": "execute_result"
    }
   ],
   "source": [
    "os.system(f\"open 'output.mp4'\")"
   ]
  }
 ],
 "metadata": {
  "kernelspec": {
   "display_name": "Python 3",
   "language": "python",
   "name": "python3"
  },
  "language_info": {
   "codemirror_mode": {
    "name": "ipython",
    "version": 3
   },
   "file_extension": ".py",
   "mimetype": "text/x-python",
   "name": "python",
   "nbconvert_exporter": "python",
   "pygments_lexer": "ipython3",
   "version": "3.11.11"
  }
 },
 "nbformat": 4,
 "nbformat_minor": 2
}
