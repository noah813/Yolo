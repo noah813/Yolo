{
 "cells": [
  {
   "cell_type": "markdown",
   "metadata": {},
   "source": [
    "# Tennis Ball Analysis"
   ]
  },
  {
   "cell_type": "code",
   "execution_count": 4,
   "metadata": {},
   "outputs": [],
   "source": [
    "import os"
   ]
  },
  {
   "cell_type": "markdown",
   "metadata": {},
   "source": [
    "## Set arguments"
   ]
  },
  {
   "cell_type": "markdown",
   "metadata": {},
   "source": [
    "* modelPath: Path to the model file\n",
    "* VideoPath: Path to the input video file"
   ]
  },
  {
   "cell_type": "code",
   "execution_count": 5,
   "metadata": {},
   "outputs": [
    {
     "name": "stdout",
     "output_type": "stream",
     "text": [
      "env: modelPath=/Users/noah/Library/CloudStorage/OneDrive-國立高雄科技大學/github/tennis-ai/model/best.pt\n",
      "env: videoPath=/Users/noah/Library/CloudStorage/OneDrive-國立高雄科技大學/github/tennis-ai/tennis-games/Game2.mp4\n"
     ]
    }
   ],
   "source": [
    "%env modelPath=/Users/noah/Library/CloudStorage/OneDrive-國立高雄科技大學/github/tennis-ai/model/best.pt\n",
    "%env videoPath=/Users/noah/Library/CloudStorage/OneDrive-國立高雄科技大學/github/tennis-ai/tennis-games/Game2.mp4"
   ]
  },
  {
   "cell_type": "code",
   "execution_count": 6,
   "metadata": {},
   "outputs": [
    {
     "name": "stdout",
     "output_type": "stream",
     "text": [
      "Detecting tennis ball: 100%|███████████████| 482/482 [00:24<00:00, 19.98frame/s]\n",
      "Traceback (most recent call last):\n",
      "  File \"/Users/noah/Documents/tennis-ai/main.py\", line 33, in <module>\n",
      "    main(args.videoPath, args.modelPath)\n",
      "  File \"/Users/noah/Documents/tennis-ai/main.py\", line 19, in main\n",
      "    frames = detect_ball_speed(frames, ball_detections)\n",
      "             ^^^^^^^^^^^^^^^^^^^^^^^^^^^^^^^^^^^^^^^^^^\n",
      "  File \"/Users/noah/Documents/tennis-ai/anaylysis/TennisBallSpeed.py\", line 87, in detect_ball_speed\n",
      "    speed = x1 - prev_positions[track_id]\n",
      "                 ~~~~~~~~~~~~~~^^^^^^^^^^\n",
      "KeyError: 1\n"
     ]
    }
   ],
   "source": [
    "!python main.py --modelPath=$modelPath --videoPath=$videoPath"
   ]
  },
  {
   "cell_type": "markdown",
   "metadata": {},
   "source": [
    "## Play output video"
   ]
  },
  {
   "cell_type": "code",
   "execution_count": 7,
   "metadata": {},
   "outputs": [
    {
     "name": "stderr",
     "output_type": "stream",
     "text": [
      "The file /Users/noah/Documents/tennis-ai/output.mp4 does not exist.\n"
     ]
    },
    {
     "data": {
      "text/plain": [
       "256"
      ]
     },
     "execution_count": 7,
     "metadata": {},
     "output_type": "execute_result"
    }
   ],
   "source": [
    "os.system(f\"open 'output.mp4'\")"
   ]
  }
 ],
 "metadata": {
  "kernelspec": {
   "display_name": "Python 3",
   "language": "python",
   "name": "python3"
  },
  "language_info": {
   "codemirror_mode": {
    "name": "ipython",
    "version": 3
   },
   "file_extension": ".py",
   "mimetype": "text/x-python",
   "name": "python",
   "nbconvert_exporter": "python",
   "pygments_lexer": "ipython3",
   "version": "3.11.11"
  }
 },
 "nbformat": 4,
 "nbformat_minor": 2
}
